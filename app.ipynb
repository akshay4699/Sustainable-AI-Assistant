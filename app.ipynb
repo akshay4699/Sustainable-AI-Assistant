{
 "cells": [
  {
   "cell_type": "code",
   "execution_count": 3,
   "id": "9d4c0a84",
   "metadata": {},
   "outputs": [
    {
     "name": "stdout",
     "output_type": "stream",
     "text": [
      "pinecone module loaded; package version: 7.3.0\n"
     ]
    }
   ],
   "source": [
    "# Safely import pinecone and print package version without relying on pinecone.__version__\n",
    "import pinecone\n",
    "try:\n",
    "    # Python 3.8+\n",
    "    from importlib.metadata import version, PackageNotFoundError\n",
    "except Exception:\n",
    "    try:\n",
    "        # Backport for older Python\n",
    "        from importlib_metadata import version, PackageNotFoundError  # type: ignore\n",
    "    except Exception:\n",
    "        version = None\n",
    "        PackageNotFoundError = Exception\n",
    "\n",
    "pkg_name_candidates = (\"pinecone-client\", \"pinecone\")\n",
    "pkg_version = None\n",
    "if version:\n",
    "    for name in pkg_name_candidates:\n",
    "        try:\n",
    "            pkg_version = version(name)\n",
    "            break\n",
    "        except PackageNotFoundError:\n",
    "            continue\n",
    "\n",
    "print(\"pinecone module loaded; package version:\", pkg_version or \"unknown\")\n"
   ]
  },
  {
   "cell_type": "code",
   "execution_count": null,
   "id": "51e1426b",
   "metadata": {},
   "outputs": [],
   "source": []
  }
 ],
 "metadata": {
  "kernelspec": {
   "display_name": "Python 3",
   "language": "python",
   "name": "python3"
  },
  "language_info": {
   "codemirror_mode": {
    "name": "ipython",
    "version": 3
   },
   "file_extension": ".py",
   "mimetype": "text/x-python",
   "name": "python",
   "nbconvert_exporter": "python",
   "pygments_lexer": "ipython3",
   "version": "-1.-1.-1"
  }
 },
 "nbformat": 4,
 "nbformat_minor": 5
}
